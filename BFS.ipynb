{
 "cells": [
  {
   "cell_type": "code",
   "execution_count": 729,
   "metadata": {
    "scrolled": true
   },
   "outputs": [],
   "source": [
    "import pandas as pd\n",
    "import numpy as np\n",
    "import scipy as sp\n",
    "import matplotlib.pyplot as plt\n",
    "import networkx as nx\n",
    "import ipywidgets as widgets\n",
    "import collections\n",
    "\n",
    "from IPython.display import display\n",
    "from IPython.display import clear_output"
   ]
  },
  {
   "cell_type": "code",
   "execution_count": 730,
   "metadata": {
    "scrolled": true
   },
   "outputs": [],
   "source": [
    "class Spremnik:\n",
    "    def __init__(self):\n",
    "        self.container = np.array([], dtype=int) \n",
    "    \n",
    "    def front(self):\n",
    "        return self.container[0]\n",
    "    \n",
    "    def pop(self):\n",
    "        val = self.container[0]\n",
    "        self.container = np.delete(self.container, 0)\n",
    "        return val\n",
    "    \n",
    "    def size(self):\n",
    "        return self.q.size\n",
    "    \n",
    "    def empty(self):\n",
    "        return self.container.size == 0\n",
    "    \n",
    "    def flip(self):\n",
    "        self.container = np.flip(self.container)\n",
    "        return self\n",
    "    \n",
    "    def isin(self, val):\n",
    "        return np.any(np.isin(self.container, val))\n",
    "    \n",
    "    # vraca string, treba mi za print(class) poziv\n",
    "    def __str__(self):\n",
    "        return str(self.container)\n",
    "    \n",
    "    # za koristenje len(class)\n",
    "    def __len__(self):\n",
    "        return self.container.size\n",
    "    \n",
    "    # za koristenje display(class)\n",
    "    def __repr__(self):\n",
    "        return str(self.container)\n",
    "    \n",
    "class Queue(Spremnik):\n",
    "    def push(self, val):      \n",
    "        self.container = np.insert(self.container, len(self.container), val)\n",
    "        \n",
    "class Stack(Spremnik):\n",
    "    def push(self, val):\n",
    "        self.container = np.insert(self.container, 0, val)"
   ]
  },
  {
   "cell_type": "code",
   "execution_count": 731,
   "metadata": {},
   "outputs": [],
   "source": [
    "class PriorityQueue():\n",
    "    def __init__(self): \n",
    "        self.keys = np.array([], dtype=int) \n",
    "        self.values = np.array([], dtype=int)\n",
    "        \n",
    "    def sort(self):\n",
    "        mask = self.values.argsort()\n",
    "        \n",
    "        self.keys = self.keys[mask]\n",
    "        self.values = self.values[mask]\n",
    "    \n",
    "    def empty(self):\n",
    "        return self.keys.size == 0\n",
    "    \n",
    "    def pop(self):\n",
    "        key = self.keys[0]\n",
    "        value = self.values[0]\n",
    "        \n",
    "        self.keys = np.delete(self.keys, 0)\n",
    "        self.values = np.delete(self.values, 0)\n",
    "        return key, value\n",
    "    \n",
    "    def push(self, val):\n",
    "        self.keys = np.insert(self.keys, 0, val[0])\n",
    "        self.values = np.insert(self.values, 0, val[1])\n",
    "        \n",
    "        self.sort()\n",
    "    \n",
    "    def isin(self, val):\n",
    "        return np.any(np.isin(self.keys, val))\n",
    "    \n",
    "    def set(self, key, val):\n",
    "        if self.isin(key) == False:\n",
    "            print(\"Element s ključem \", key, \" ne postoji!\")\n",
    "            return\n",
    "        \n",
    "        pos = np.where(self.keys == key)[0][0]\n",
    "        \n",
    "        self.values[pos] = val\n",
    "        self.sort()\n",
    "    \n",
    "    # vraca string, treba mi za print(class) poziv\n",
    "    def __str__(self):\n",
    "        return str(np.vstack((self.keys, self.values)))\n",
    "    \n",
    "    # za koristenje display(class)\n",
    "    def __repr__(self):\n",
    "        return str(np.vstack((self.keys, self.values)))"
   ]
  },
  {
   "cell_type": "code",
   "execution_count": 732,
   "metadata": {
    "scrolled": true
   },
   "outputs": [],
   "source": [
    "def dohvati_put(roditelj_cvora, pocetni_cvor, ciljni_cvor):\n",
    "    q = Stack()\n",
    "    trenutni_cvor = ciljni_cvor\n",
    "    \n",
    "    while trenutni_cvor != pocetni_cvor:\n",
    "        q.push(trenutni_cvor)\n",
    "        trenutni_cvor = roditelj_cvora[trenutni_cvor]\n",
    "        \n",
    "    q.push(trenutni_cvor)\n",
    "    \n",
    "    return q"
   ]
  },
  {
   "cell_type": "code",
   "execution_count": 733,
   "metadata": {
    "scrolled": true
   },
   "outputs": [],
   "source": [
    "# 1  procedure BFS(G, start_v) is\n",
    "# 2      let Q be a queue\n",
    "# 3      label start_v as discovered\n",
    "# 4      Q.enqueue(start_v)\n",
    "# 5      while Q is not empty do\n",
    "# 6          v := Q.dequeue()\n",
    "# 7          if v is the goal then\n",
    "# 8              return v\n",
    "# 9          for all edges from v to w in G.adjacentEdges(v) do\n",
    "# 10             if w is not labeled as discovered then\n",
    "# 11                 label w as discovered\n",
    "# 12                 w.parent := v\n",
    "# 13                 Q.enqueue(w)\n",
    "\n",
    "def BFS(G, pocetni_cvor, ciljni_cvor):\n",
    "    q = Queue()\n",
    "    q.push(pocetni_cvor)\n",
    "\n",
    "    posjeceni_cvorovi = np.zeros(len(G), dtype=int)\n",
    "    posjeceni_cvorovi[pocetni_cvor] = True\n",
    "    \n",
    "    roditelj_cvora = np.zeros(len(G), dtype=int)\n",
    "    roditelj_cvora[pocetni_cvor] = pocetni_cvor;\n",
    "\n",
    "    put_obilaska_stabla = Stack()\n",
    "    \n",
    "    df = pd.DataFrame([], columns=['susjedi', 'trenutni cvor', 'red', 'lista_posjecenih'])\n",
    "    df = df.append(pd.Series(['-', '-', str(q), '-'], index=df.columns ), ignore_index=True)\n",
    "    \n",
    "    while q.empty() == False:\n",
    "        trenutni_cvor = q.pop()\n",
    "        \n",
    "        if trenutni_cvor == ciljni_cvor:\n",
    "            put_obilaska_stabla.push(trenutni_cvor)\n",
    "            \n",
    "            df = df.append(pd.Series(['-', str(trenutni_cvor), '-', str(put_obilaska_stabla)], index=df.columns ), ignore_index=True)\n",
    "            \n",
    "            return { 'put' : dohvati_put(roditelj_cvora, pocetni_cvor, ciljni_cvor), \n",
    "                     'put_obilaska' : put_obilaska_stabla.flip(),\n",
    "                     'tablica' : df\n",
    "                   }\n",
    "\n",
    "        for susjedni_cvor in sorted(G[trenutni_cvor]):\n",
    "            if posjeceni_cvorovi[susjedni_cvor] == False:\n",
    "                posjeceni_cvorovi[susjedni_cvor] = True\n",
    "                roditelj_cvora[susjedni_cvor] = trenutni_cvor\n",
    "                q.push(susjedni_cvor)\n",
    "\n",
    "        #ako vec nismo bili u tom cvoru\n",
    "        if put_obilaska_stabla.isin(trenutni_cvor) == False:\n",
    "            put_obilaska_stabla.push(trenutni_cvor)\n",
    "            \n",
    "            red = pd.Series([str(sorted(G[trenutni_cvor])), str(trenutni_cvor), str(q), str(put_obilaska_stabla)], index=df.columns) \n",
    "            df = df.append(red, ignore_index=True)"
   ]
  },
  {
   "cell_type": "code",
   "execution_count": 734,
   "metadata": {
    "scrolled": true
   },
   "outputs": [],
   "source": [
    "# procedure DFS-iterative(G, v) is\n",
    "#     let S be a stack\n",
    "#     S.push(v)\n",
    "#     while S is not empty do\n",
    "#         v = S.pop()\n",
    "#         if v is not labeled as discovered then\n",
    "#             label v as discovered\n",
    "#             for all edges from v to w in G.adjacentEdges(v) do \n",
    "#                 S.push(w)\n",
    "\n",
    "def DFS(G, pocetni_cvor, ciljni_cvor):\n",
    "    s = Stack()\n",
    "    s.push(pocetni_cvor)\n",
    "    \n",
    "    posjeceni_cvorovi = np.zeros(len(G), dtype=int)\n",
    "    \n",
    "    roditelj_cvora = np.zeros(len(G), dtype=int)\n",
    "    roditelj_cvora[pocetni_cvor] = pocetni_cvor;\n",
    "    \n",
    "    put_obilaska_stabla = Stack()\n",
    "    \n",
    "    #dodajemo podatke u tablicu\n",
    "    df = pd.DataFrame([], columns=['susjedi', 'trenutni cvor', 'stog', 'lista_posjecenih'])\n",
    "    df = df.append(pd.Series(['-', '-', str(s), '-'], index=df.columns ), ignore_index=True)\n",
    "    \n",
    "    while s.empty() == False:\n",
    "        trenutni_cvor = s.pop()\n",
    "        \n",
    "        if trenutni_cvor == ciljni_cvor:\n",
    "            put_obilaska_stabla.push(trenutni_cvor)\n",
    "            \n",
    "            df = df.append(pd.Series(['-', str(trenutni_cvor), '-', str(put_obilaska_stabla)], index=df.columns ), ignore_index=True)\n",
    "            \n",
    "            return {'put' : dohvati_put(roditelj_cvora, pocetni_cvor, ciljni_cvor), \n",
    "                    'put_obilaska' : put_obilaska_stabla.flip(),\n",
    "                    'tablica' : df\n",
    "                   }\n",
    "        \n",
    "        if posjeceni_cvorovi[trenutni_cvor] == False:\n",
    "            posjeceni_cvorovi[trenutni_cvor] = True\n",
    "            \n",
    "            for susjedni_cvor in sorted(G[trenutni_cvor], reverse = True):\n",
    "                 if posjeceni_cvorovi[susjedni_cvor] == False:\n",
    "                    roditelj_cvora[susjedni_cvor] = trenutni_cvor\n",
    "                    s.push(susjedni_cvor)\n",
    "\n",
    "        #ako vec nismo bili u tom cvoru\n",
    "        if put_obilaska_stabla.isin(trenutni_cvor) == False:\n",
    "            put_obilaska_stabla.push(trenutni_cvor)\n",
    "            \n",
    "            red = pd.Series([str(sorted(G[trenutni_cvor])), str(trenutni_cvor), str(s), str(put_obilaska_stabla)], index=df.columns) \n",
    "            df = df.append(red, ignore_index=True)"
   ]
  },
  {
   "cell_type": "code",
   "execution_count": 735,
   "metadata": {
    "scrolled": true
   },
   "outputs": [],
   "source": [
    "broj_cvorova = 6\n",
    "pocetni_cvor = 1\n",
    "ciljni_cvor = 4"
   ]
  },
  {
   "cell_type": "code",
   "execution_count": 736,
   "metadata": {
    "scrolled": true
   },
   "outputs": [
    {
     "data": {
      "image/png": "[encoded data removed]",
      "text/plain": [
       "<Figure size 432x288 with 1 Axes>"
      ]
     },
     "metadata": {},
     "output_type": "display_data"
    }
   ],
   "source": [
    "# s ovim generiram random povezan graf\n",
    "G = nx.generators.random_graphs.newman_watts_strogatz_graph(broj_cvorova, 2, 0.4, np.random.randint(10000))\n",
    "\n",
    "pos_G = nx.kamada_kawai_layout(G)\n",
    "nx.draw(G, pos_G, node_size=500, with_labels=True, node_color='red')"
   ]
  },
  {
   "cell_type": "code",
   "execution_count": 737,
   "metadata": {
    "scrolled": false
   },
   "outputs": [],
   "source": [
    "def ispisi_output():\n",
    "    \n",
    "    clear_output(wait=True)\n",
    "    \n",
    "    display(HBox, output)\n",
    "\n",
    "    for index, ime_algoritma in enumerate(imena_algoritama):\n",
    "        node_colors[ime_algoritma] = [node_colors_map[ime_algoritma][node] for node in G.nodes()]\n",
    "\n",
    "        display(tablice[ime_algoritma].head(brojac))\n",
    "        \n",
    "        plt.subplot(1, len(imena_algoritama), index + 1)   \n",
    "        nx.draw(G, pos_G, node_size=300, with_labels=True, node_color=node_colors[ime_algoritma])\n",
    "\n",
    "def promjeni_boju_cvora(put_1, put_2, colors_map, boja):\n",
    "    \n",
    "    if put_1.empty() == False:\n",
    "            put_2.push(put_1.pop())\n",
    "            colors_map[put_2.front()] = boja;\n",
    "    \n",
    "def sljedeci_clicked(b):\n",
    "    global brojac\n",
    "    global max_brojac\n",
    "    \n",
    "    for ime_algoritma in imena_algoritama:\n",
    "        promjeni_boju_cvora(putevi[ime_algoritma], pokazane_tocke[ime_algoritma], \n",
    "                            node_colors_map[ime_algoritma], 'yellow'\n",
    "                            )\n",
    "    brojac = min(brojac + 1, max_brojac)\n",
    "        \n",
    "    ispisi_output()\n",
    "        \n",
    "def prethodni_clicked(b):\n",
    "    global brojac\n",
    "    \n",
    "    for ime_algoritma in imena_algoritama:\n",
    "        promjeni_boju_cvora(pokazane_tocke[ime_algoritma], putevi[ime_algoritma],\n",
    "                            node_colors_map[ime_algoritma], 'red'\n",
    "                            )\n",
    "    brojac = max(0, brojac - 1)\n",
    "        \n",
    "    ispisi_output()"
   ]
  },
  {
   "cell_type": "code",
   "execution_count": 738,
   "metadata": {
    "scrolled": false
   },
   "outputs": [
    {
     "data": {
      "application/vnd.jupyter.widget-view+json": {
       "model_id": "50191674fe734554a7e1eb128442a007",
       "version_major": 2,
       "version_minor": 0
      },
      "text/plain": [
       "HBox(children=(Button(description='<', style=ButtonStyle()), Button(description='>', style=ButtonStyle())))"
      ]
     },
     "metadata": {},
     "output_type": "display_data"
    },
    {
     "data": {
      "application/vnd.jupyter.widget-view+json": {
       "model_id": "987f1c6c874e47d9a2b480d200cd6370",
       "version_major": 2,
       "version_minor": 0
      },
      "text/plain": [
       "Output()"
      ]
     },
     "metadata": {},
     "output_type": "display_data"
    },
    {
     "data": {
      "text/html": [
       "<div>\n",
       "<style scoped>\n",
       "    .dataframe tbody tr th:only-of-type {\n",
       "        vertical-align: middle;\n",
       "    }\n",
       "\n",
       "    .dataframe tbody tr th {\n",
       "        vertical-align: top;\n",
       "    }\n",
       "\n",
       "    .dataframe thead th {\n",
       "        text-align: right;\n",
       "    }\n",
       "</style>\n",
       "<table border=\"1\" class=\"dataframe\">\n",
       "  <thead>\n",
       "    <tr style=\"text-align: right;\">\n",
       "      <th></th>\n",
       "      <th>susjedi</th>\n",
       "      <th>trenutni cvor</th>\n",
       "      <th>red</th>\n",
       "      <th>lista_posjecenih</th>\n",
       "    </tr>\n",
       "  </thead>\n",
       "  <tbody>\n",
       "    <tr>\n",
       "      <td>0</td>\n",
       "      <td>-</td>\n",
       "      <td>-</td>\n",
       "      <td>[1]</td>\n",
       "      <td>-</td>\n",
       "    </tr>\n",
       "  </tbody>\n",
       "</table>\n",
       "</div>"
      ],
      "text/plain": [
       "  susjedi trenutni cvor  red lista_posjecenih\n",
       "0       -             -  [1]                -"
      ]
     },
     "metadata": {},
     "output_type": "display_data"
    },
    {
     "data": {
      "text/html": [
       "<div>\n",
       "<style scoped>\n",
       "    .dataframe tbody tr th:only-of-type {\n",
       "        vertical-align: middle;\n",
       "    }\n",
       "\n",
       "    .dataframe tbody tr th {\n",
       "        vertical-align: top;\n",
       "    }\n",
       "\n",
       "    .dataframe thead th {\n",
       "        text-align: right;\n",
       "    }\n",
       "</style>\n",
       "<table border=\"1\" class=\"dataframe\">\n",
       "  <thead>\n",
       "    <tr style=\"text-align: right;\">\n",
       "      <th></th>\n",
       "      <th>susjedi</th>\n",
       "      <th>trenutni cvor</th>\n",
       "      <th>stog</th>\n",
       "      <th>lista_posjecenih</th>\n",
       "    </tr>\n",
       "  </thead>\n",
       "  <tbody>\n",
       "    <tr>\n",
       "      <td>0</td>\n",
       "      <td>-</td>\n",
       "      <td>-</td>\n",
       "      <td>[1]</td>\n",
       "      <td>-</td>\n",
       "    </tr>\n",
       "  </tbody>\n",
       "</table>\n",
       "</div>"
      ],
      "text/plain": [
       "  susjedi trenutni cvor stog lista_posjecenih\n",
       "0       -             -  [1]                -"
      ]
     },
     "metadata": {},
     "output_type": "display_data"
    },
    {
     "data": {
      "image/png": "[encoded data removed]",
      "text/plain": [
       "<Figure size 432x288 with 2 Axes>"
      ]
     },
     "metadata": {},
     "output_type": "display_data"
    }
   ],
   "source": [
    "# definiramo gumbe\n",
    "sljedeci = widgets.Button(description=\">\")\n",
    "prethodni = widgets.Button(description=\"<\")\n",
    "output = widgets.Output()\n",
    "HBox = widgets.HBox([prethodni, sljedeci])\n",
    "\n",
    "sljedeci.on_click(sljedeci_clicked)\n",
    "prethodni.on_click(prethodni_clicked)\n",
    "\n",
    "# za dodat novi algoritam samo dodati ime i u varijablu put dodati pripadnu funkciju\n",
    "imena_algoritama = ['BFS', 'DFS']\n",
    "vrsta = 'put_obilaska'\n",
    "\n",
    "pokazane_tocke = { ime_algoritma : Stack() for ime_algoritma in imena_algoritama }\n",
    "putevi = { 'BFS' : BFS(G, pocetni_cvor, ciljni_cvor)[vrsta], \n",
    "           'DFS' : DFS(G, pocetni_cvor, ciljni_cvor)[vrsta]\n",
    "         }\n",
    "tablice = { 'BFS' : BFS(G, pocetni_cvor, ciljni_cvor)['tablica'], \n",
    "           'DFS' : DFS(G, pocetni_cvor, ciljni_cvor)['tablica']\n",
    "          }\n",
    "\n",
    "# brojac za ispisivanje tablice\n",
    "brojac = 1\n",
    "max_brojac = max(len(putevi['BFS']), len(putevi['DFS'])) + 1\n",
    "\n",
    "# dictionary s bojama za svaki nod\n",
    "node_colors_map = { ime_algoritma : { i : 'red' for i in range(len(G)) } for ime_algoritma in imena_algoritama }\n",
    "\n",
    "# niz odgovarajucih boja\n",
    "node_colors = { ime_algoritma : [node_colors_map[ime_algoritma][node] for node in G.nodes()] \n",
    "               for ime_algoritma in imena_algoritama \n",
    "              }\n",
    "\n",
    "ispisi_output()"
   ]
  },
  {
   "cell_type": "code",
   "execution_count": 744,
   "metadata": {},
   "outputs": [
    {
     "data": {
      "image/png": "[encoded data removed]",
      "text/plain": [
       "<Figure size 432x288 with 1 Axes>"
      ]
     },
     "metadata": {},
     "output_type": "display_data"
    }
   ],
   "source": [
    "#weights = [ np.random.randint(1,10) for i in range(len(G.edges))]\n",
    "\n",
    "H = nx.generators.random_graphs.newman_watts_strogatz_graph(broj_cvorova, 2, 0.4, np.random.randint(10000))\n",
    "\n",
    "for (u, v, w) in H.edges(data=True):\n",
    "    w['weight'] = np.random.randint(1, 15)\n",
    "\n",
    "pos_H = nx.shell_layout(H)\n",
    "nx.draw(H, pos_H, node_size=500, with_labels=True)\n",
    "\n",
    "weights = nx.get_edge_attributes(H,'weight')\n",
    "nx.draw_networkx_edge_labels(H, pos_H, edge_labels=weights);\n"
   ]
  },
  {
   "cell_type": "code",
   "execution_count": 740,
   "metadata": {},
   "outputs": [],
   "source": [
    "# 1  function Dijkstra(Graph, source):\n",
    "# 2      dist[source] ← 0                           // Initialization\n",
    "# 3\n",
    "# 4      create vertex priority queue Q\n",
    "# 5\n",
    "# 6      for each vertex v in Graph:           \n",
    "# 7          if v ≠ source\n",
    "# 8              dist[v] ← INFINITY                 // Unknown distance from source to v\n",
    "# 9              prev[v] ← UNDEFINED                // Predecessor of v\n",
    "# 10\n",
    "# 11         Q.add_with_priority(v, dist[v])\n",
    "# 12\n",
    "# 13\n",
    "# 14     while Q is not empty:                      // The main loop\n",
    "# 15         u ← Q.extract_min()                    // Remove and return best vertex\n",
    "# 16         for each neighbor v of u:              // only v that are still in Q\n",
    "# 17             alt ← dist[u] + length(u, v) \n",
    "# 18             if alt < dist[v]\n",
    "# 19                 dist[v] ← alt\n",
    "# 20                 prev[v] ← u\n",
    "# 21                 Q.decrease_priority(v, alt)\n",
    "# 22\n",
    "# 23     return dist, prev"
   ]
  },
  {
   "cell_type": "code",
   "execution_count": 741,
   "metadata": {},
   "outputs": [],
   "source": [
    "## import sys\n",
    "\n",
    "def Dijkstra(G, pocetni_cvor):\n",
    "    udaljenosti = np.zeros(len(G), dtype=int)\n",
    "    roditelj_cvora = np.zeros(len(G), dtype=int)\n",
    "    \n",
    "    q = PriorityQueue()\n",
    "    q.push((pocetni_cvor, 0))\n",
    "    \n",
    "    weights = nx.get_edge_attributes(H,'weight')\n",
    "    \n",
    "    for cvor in G.nodes:\n",
    "        if cvor != pocetni_cvor:\n",
    "            # promjeni ovo kasnije\n",
    "            udaljenosti[cvor] = 99999\n",
    "            roditelj_cvora[cvor] = -1\n",
    "            \n",
    "            q.push((cvor, udaljenosti[cvor]))\n",
    "    \n",
    "    while q.empty() == False:\n",
    "        trenutni_cvor, value = q.pop()\n",
    "        \n",
    "        for susjedni_cvor in sorted(H[trenutni_cvor]):\n",
    "            \n",
    "            u = min(trenutni_cvor, susjedni_cvor)\n",
    "            v = max(trenutni_cvor, susjedni_cvor)\n",
    "            \n",
    "            nova_udaljenost = udaljenosti[trenutni_cvor] + weights[u, v]\n",
    "            if nova_udaljenost < udaljenosti[susjedni_cvor]:\n",
    "                \n",
    "                udaljenosti[susjedni_cvor] = nova_udaljenost\n",
    "                roditelj_cvora[susjedni_cvor] = trenutni_cvor\n",
    "                \n",
    "                q.set(susjedni_cvor, nova_udaljenost)\n",
    "            \n",
    "    return udaljenosti, roditelj_cvora\n"
   ]
  },
  {
   "cell_type": "code",
   "execution_count": 745,
   "metadata": {},
   "outputs": [
    {
     "data": {
      "text/plain": [
       "(array([ 0,  9, 10, 12, 13,  2]), array([0, 0, 0, 5, 5, 0]))"
      ]
     },
     "execution_count": 745,
     "metadata": {},
     "output_type": "execute_result"
    }
   ],
   "source": [
    "q = PriorityQueue()\n",
    "\n",
    "q.push((20, 2))\n",
    "q.push((40, 3))\n",
    "q.push((50, 4))\n",
    "q.push((10, 5))\n",
    "\n",
    "x, y = q.pop()\n",
    "\n",
    "q.set(10, 1)\n",
    "\n",
    "Dijkstra(G, 0)\n"
   ]
  }
 ],
 "metadata": {
  "kernelspec": {
   "display_name": "Python 3",
   "language": "python",
   "name": "python3"
  },
  "language_info": {
   "codemirror_mode": {
    "name": "ipython",
    "version": 3
   },
   "file_extension": ".py",
   "mimetype": "text/x-python",
   "name": "python",
   "nbconvert_exporter": "python",
   "pygments_lexer": "ipython3",
   "version": "3.7.4"
  }
 },
 "nbformat": 4,
 "nbformat_minor": 2
}
