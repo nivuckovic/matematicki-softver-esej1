{
 "cells": [
  {
   "cell_type": "code",
   "execution_count": 189,
   "metadata": {},
   "outputs": [],
   "source": [
    "import pandas as pd\n",
    "import numpy as np\n",
    "import scipy as sp\n",
    "import matplotlib.pyplot as plt\n",
    "import networkx as nx\n",
    "import ipywidgets as widgets\n",
    "import collections\n",
    "\n",
    "from IPython.display import display\n",
    "from IPython.display import clear_output"
   ]
  },
  {
   "cell_type": "code",
   "execution_count": 190,
   "metadata": {},
   "outputs": [],
   "source": [
    "class Spremnik:\n",
    "    q = np.array([], dtype=int)\n",
    "        \n",
    "    def front(self):\n",
    "        return self.q[0]\n",
    "    \n",
    "    def pop(self):\n",
    "        val = self.q[0]\n",
    "        self.q = np.delete(self.q, 0)\n",
    "        return val\n",
    "    \n",
    "    def size(self):\n",
    "        return self.q.size\n",
    "    \n",
    "    def empty(self):\n",
    "        return self.q.size == 0\n",
    "    \n",
    "    def flip(self):\n",
    "        self.q = np.flip(self.q)\n",
    "        return self\n",
    "    \n",
    "    # vraca string, treba mi za print(class) poziv\n",
    "    def __str__(self):\n",
    "        return np.array2string(self.q, separator=', ')\n",
    "    \n",
    "class Queue(Spremnik):\n",
    "    def push(self, val):\n",
    "        self.q = np.insert(self.q, len(self.q), val)\n",
    "        \n",
    "class Stack(Spremnik):\n",
    "    def push(self, val):\n",
    "        self.q = np.insert(self.q, 0, val)"
   ]
  },
  {
   "cell_type": "code",
   "execution_count": 191,
   "metadata": {},
   "outputs": [],
   "source": [
    "def dohvati_put(roditelj_cvora, pocetni_cvor, ciljni_cvor):\n",
    "    q = Stack()\n",
    "    trenutni_cvor = ciljni_cvor\n",
    "    \n",
    "    while trenutni_cvor != pocetni_cvor:\n",
    "        q.push(trenutni_cvor)\n",
    "        trenutni_cvor = roditelj_cvora[trenutni_cvor]\n",
    "        \n",
    "    q.push(trenutni_cvor)\n",
    "    \n",
    "    return q"
   ]
  },
  {
   "cell_type": "code",
   "execution_count": 192,
   "metadata": {},
   "outputs": [],
   "source": [
    "def BFS(G, pocetni_cvor, ciljni_cvor):\n",
    "    q = Queue()\n",
    "    q.push(pocetni_cvor)\n",
    "    \n",
    "    posjeceni_cvorovi = np.zeros(len(G), dtype=int)\n",
    "    posjeceni_cvorovi[pocetni_cvor] = True\n",
    "    \n",
    "    roditelj_cvora = np.zeros(len(G), dtype=int)\n",
    "    roditelj_cvora[pocetni_cvor] = pocetni_cvor;\n",
    "\n",
    "    put_obilaska_stabla = Stack()\n",
    "    \n",
    "    while q.size():\n",
    "        trenutni_cvor = q.pop()\n",
    "        \n",
    "        put_obilaska_stabla.push(trenutni_cvor)\n",
    "\n",
    "        if trenutni_cvor == ciljni_cvor:\n",
    "            return { 'put' : dohvati_put(roditelj_cvora, pocetni_cvor, ciljni_cvor), \n",
    "                     'put_obilaska' : put_obilaska_stabla.flip()\n",
    "                   }\n",
    "        \n",
    "        for susjedni_cvor in sorted(G[trenutni_cvor]):\n",
    "            if posjeceni_cvorovi[susjedni_cvor] == False:\n",
    "                posjeceni_cvorovi[susjedni_cvor] = True\n",
    "                roditelj_cvora[susjedni_cvor] = trenutni_cvor\n",
    "                q.push(susjedni_cvor)"
   ]
  },
  {
   "cell_type": "code",
   "execution_count": 193,
   "metadata": {},
   "outputs": [],
   "source": [
    "def DFS(G, pocetni_cvor, ciljni_cvor):\n",
    "    s = Stack()\n",
    "    s.push(pocetni_cvor)\n",
    "    \n",
    "    posjeceni_cvorovi = np.zeros(len(G), dtype=int)\n",
    "    posjeceni_cvorovi[pocetni_cvor] = True\n",
    "    \n",
    "    roditelj_cvora = np.zeros(len(G), dtype=int)\n",
    "    roditelj_cvora[pocetni_cvor] = pocetni_cvor;\n",
    "    \n",
    "    put_obilaska_stabla = Stack()\n",
    "    \n",
    "    while s.empty() == False:\n",
    "        trenutni_cvor = s.pop()\n",
    "        \n",
    "        put_obilaska_stabla.push(trenutni_cvor)\n",
    "        \n",
    "        if trenutni_cvor == ciljni_cvor:\n",
    "            return { 'put' : dohvati_put(roditelj_cvora, pocetni_cvor, ciljni_cvor), \n",
    "                     'put_obilaska' : put_obilaska_stabla.flip()\n",
    "                   }\n",
    "        \n",
    "        for susjedni_cvor in sorted(G[trenutni_cvor], reverse = True):\n",
    "            if posjeceni_cvorovi[susjedni_cvor] == False:\n",
    "                posjeceni_cvorovi[susjedni_cvor] = True\n",
    "                roditelj_cvora[susjedni_cvor] = trenutni_cvor\n",
    "                s.push(susjedni_cvor)"
   ]
  },
  {
   "cell_type": "code",
   "execution_count": 194,
   "metadata": {},
   "outputs": [
    {
     "data": {
      "image/png": "[encoded data removed]",
      "text/plain": [
       "<Figure size 432x288 with 1 Axes>"
      ]
     },
     "metadata": {},
     "output_type": "display_data"
    }
   ],
   "source": [
    "# s ovim generiram random povezan graf\n",
    "G = nx.generators.random_graphs.connected_watts_strogatz_graph(10, 3, 0.5, 10000)\n",
    "\n",
    "nx.draw_kamada_kawai(G, node_size=500, with_labels=True, node_color='red')\n",
    "                     "
   ]
  },
  {
   "cell_type": "code",
   "execution_count": 195,
   "metadata": {
    "scrolled": true
   },
   "outputs": [],
   "source": [
    "def ispisi_output():\n",
    "    for index, ime_algoritma in enumerate(imena_algoritama):\n",
    "        node_colors[ime_algoritma] = [node_colors_map[ime_algoritma][node] for node in G.nodes()]\n",
    "        \n",
    "        plt.subplot(1, len(imena_algoritama), index + 1)   \n",
    "        nx.draw_kamada_kawai(G, node_size=300, with_labels=True, node_color=node_colors[ime_algoritma])\n",
    "    \n",
    "    clear_output(wait=True)\n",
    "    \n",
    "    display(HBox, output)\n",
    "\n",
    "def promjeni_boju_cvora(put_1, put_2, colors_map, boja):\n",
    "    if put_1.empty() == False:\n",
    "            put_2.push(put_1.pop())\n",
    "            colors_map[put_2.front()] = boja;\n",
    "    \n",
    "def slijedeci_clicked(b):\n",
    "    for ime_algoritma in imena_algoritama:\n",
    "        promjeni_boju_cvora(put[ime_algoritma], prijedeni_put[ime_algoritma], \n",
    "                            node_colors_map[ime_algoritma], 'yellow'\n",
    "                            )\n",
    "\n",
    "    ispisi_output()\n",
    "        \n",
    "def prethodni_clicked(b):\n",
    "    for ime_algoritma in imena_algoritama:\n",
    "        promjeni_boju_cvora(prijedeni_put[ime_algoritma], put[ime_algoritma],\n",
    "                            node_colors_map[ime_algoritma], 'red'\n",
    "                            )\n",
    "        \n",
    "    ispisi_output()"
   ]
  },
  {
   "cell_type": "code",
   "execution_count": 196,
   "metadata": {
    "scrolled": false
   },
   "outputs": [
    {
     "data": {
      "application/vnd.jupyter.widget-view+json": {
       "model_id": "d73c513b91fb495faf886e76d1ac1e42",
       "version_major": 2,
       "version_minor": 0
      },
      "text/plain": [
       "HBox(children=(Button(description='<', style=ButtonStyle()), Button(description='>', style=ButtonStyle())))"
      ]
     },
     "metadata": {},
     "output_type": "display_data"
    },
    {
     "data": {
      "application/vnd.jupyter.widget-view+json": {
       "model_id": "bcc0c1b6c1a44441a6185bb961b32e89",
       "version_major": 2,
       "version_minor": 0
      },
      "text/plain": [
       "Output()"
      ]
     },
     "metadata": {},
     "output_type": "display_data"
    },
    {
     "data": {
      "image/png": "[encoded data removed]",
      "text/plain": [
       "<Figure size 432x288 with 2 Axes>"
      ]
     },
     "metadata": {},
     "output_type": "display_data"
    }
   ],
   "source": [
    "# definiramo gumbe\n",
    "slijedeci = widgets.Button(description=\">\")\n",
    "prethodni = widgets.Button(description=\"<\")\n",
    "output = widgets.Output()\n",
    "HBox = widgets.HBox([prethodni, slijedeci])\n",
    "\n",
    "slijedeci.on_click(slijedeci_clicked)\n",
    "prethodni.on_click(prethodni_clicked)\n",
    "\n",
    "#G = nx.generators.random_graphs.newman_watts_strogatz_graph(10, 2, 0.35, np.random.randint(1000))\n",
    "\n",
    "pocetni_cvor = 1\n",
    "ciljni_cvor = 7\n",
    "\n",
    "# za dodat novi algoritam samo dodati ime i u varijablu put dodati pripadnu funkciju\n",
    "imena_algoritama = ['BFS', 'DFS']\n",
    "vrsta = 'put_obilaska'\n",
    "\n",
    "prijedeni_put = { ime_algoritma : Stack() for ime_algoritma in imena_algoritama }\n",
    "put = { 'BFS' : BFS(G, pocetni_cvor, ciljni_cvor)[vrsta], \n",
    "        'DFS' : DFS(G, pocetni_cvor, ciljni_cvor)[vrsta]\n",
    "      }\n",
    "\n",
    "# dictionary s bojama za svaki nod\n",
    "node_colors_map = { ime_algoritma : { i : 'red' for i in range(len(G)) } for ime_algoritma in imena_algoritama }\n",
    "\n",
    "# niz odgovarajucih boja\n",
    "node_colors = { ime_algoritma : [node_colors_map[ime_algoritma][node] for node in G.nodes()] \n",
    "               for ime_algoritma in imena_algoritama \n",
    "              }\n",
    "\n",
    "ispisi_output()"
   ]
  }
 ],
 "metadata": {
  "kernelspec": {
   "display_name": "Python 3",
   "language": "python",
   "name": "python3"
  },
  "language_info": {
   "codemirror_mode": {
    "name": "ipython",
    "version": 3
   },
   "file_extension": ".py",
   "mimetype": "text/x-python",
   "name": "python",
   "nbconvert_exporter": "python",
   "pygments_lexer": "ipython3",
   "version": "3.7.4"
  }
 },
 "nbformat": 4,
 "nbformat_minor": 2
}
