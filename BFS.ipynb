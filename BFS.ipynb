{
 "cells": [
  {
   "cell_type": "code",
   "execution_count": 311,
   "metadata": {},
   "outputs": [],
   "source": [
    "import pandas as pd\n",
    "import numpy as np\n",
    "import scipy as sp\n",
    "import matplotlib as plt"
   ]
  },
  {
   "cell_type": "code",
   "execution_count": 312,
   "metadata": {},
   "outputs": [],
   "source": [
    "class Queue:\n",
    "    q = np.array([])\n",
    "    \n",
    "    def push(self, val):\n",
    "        self.q = np.insert(self.q, len(self.q), val)\n",
    "        \n",
    "    def front(self):\n",
    "        return self.q[0]\n",
    "    \n",
    "    def pop(self):\n",
    "        val = self.q[0]\n",
    "        self.q = np.delete(self.q, 0)\n",
    "        return val\n",
    "    \n",
    "    def size(self):\n",
    "        return self.q.size\n",
    "    \n",
    "    # vraca string, treba mi za print(class) poziv\n",
    "    def __str__(self):\n",
    "        return np.array2string(self.q, separator=', ')"
   ]
  },
  {
   "cell_type": "code",
   "execution_count": 313,
   "metadata": {},
   "outputs": [],
   "source": [
    "def dohvati_put(roditelj_cvora, pocetni_cvor, ciljni_cvor):\n",
    "    q = Queue()\n",
    "    trenutni_cvor = ciljni_cvor\n",
    "    \n",
    "    while trenutni_cvor != pocetni_cvor:\n",
    "        q.push(trenutni_cvor)\n",
    "        trenutni_cvor = roditelj_cvora[trenutni_cvor]\n",
    "        \n",
    "    q.push(trenutni_cvor)\n",
    "            \n",
    "    return q"
   ]
  },
  {
   "cell_type": "code",
   "execution_count": 314,
   "metadata": {},
   "outputs": [],
   "source": [
    "# 1  procedure BFS(G, start_v) is\n",
    "# 2      let Q be a queue\n",
    "# 3      label start_v as discovered\n",
    "# 4      Q.enqueue(start_v)\n",
    "# 5      while Q is not empty do\n",
    "# 6          v := Q.dequeue()\n",
    "# 7          if v is the goal then\n",
    "# 8              return v\n",
    "# 9          for all edges from v to w in G.adjacentEdges(v) do\n",
    "# 10             if w is not labeled as discovered then\n",
    "# 11                 label w as discovered\n",
    "# 12                 w.parent := v\n",
    "# 13                 Q.enqueue(w)\n",
    "\n",
    "\n",
    "def BFS(G, pocetni_cvor, ciljni_cvor):\n",
    "    q = Queue()\n",
    "    q.push(pocetni_cvor)\n",
    "    \n",
    "    posjeceni_cvorovi = np.zeros(len(G), dtype=int)\n",
    "    posjeceni_cvorovi[pocetni_cvor] = True\n",
    "    \n",
    "    roditelj_cvora = np.zeros(len(G), dtype=int)\n",
    "    roditelj_cvora[pocetni_cvor] = pocetni_cvor;\n",
    "\n",
    "    while q.size():\n",
    "        trenutni_cvor = q.pop()\n",
    "        print(trenutni_cvor, '\\n')\n",
    "        if trenutni_cvor == ciljni_cvor:\n",
    "            return dohvati_put(roditelj_cvora, pocetni_cvor, ciljni_cvor)\n",
    "        \n",
    "        for susjedni_cvor in G[trenutni_cvor]:\n",
    "            if posjeceni_cvorovi[susjedni_cvor] == False:\n",
    "                posjeceni_cvorovi[susjedni_cvor] = True\n",
    "                roditelj_cvora[susjedni_cvor] = trenutni_cvor\n",
    "                q.push(susjedni_cvor)"
   ]
  },
  {
   "cell_type": "code",
   "execution_count": 315,
   "metadata": {},
   "outputs": [
    {
     "name": "stdout",
     "output_type": "stream",
     "text": [
      "0.0 \n",
      "\n",
      "4.0 \n",
      "\n",
      "3.0 \n",
      "\n",
      "2.0 \n",
      "\n",
      "6.0 \n",
      "\n",
      "1.0 \n",
      "\n",
      "5.0 \n",
      "\n",
      "[5., 6., 3., 4., 0.]\n"
     ]
    },
    {
     "data": {
      "image/png": "[encoded data removed]",
      "text/plain": [
       "<Figure size 432x288 with 1 Axes>"
      ]
     },
     "metadata": {},
     "output_type": "display_data"
    }
   ],
   "source": [
    "\n",
    "# s ovim generiram random povezan graf\n",
    "#G = nx.generators.random_graphs.connected_watts_strogatz_graph(7, 3, 0.4, 100)\n",
    "G = nx.Graph()\n",
    "G.add_edges_from([(0, 4), (1, 2), (2, 3), (2, 6), (3, 6), (3, 4), (5, 6)], color='red')\n",
    "A = nx.adjacency_matrix(G)\n",
    "\n",
    "pocetni_cvor = 0\n",
    "ciljni_cvor = 5\n",
    "\n",
    "print(BFS(G, pocetni_cvor, ciljni_cvor))\n",
    "\n",
    "boje = [G[u][v]['color'] for u,v in G.edges()]\n",
    "\n",
    "pos = nx.circular_layout(G)\n",
    "nx.draw(G, pos, node_size=1500, with_labels=True, edge_color=boje, node_color='red')\n"
   ]
  }
 ],
 "metadata": {
  "kernelspec": {
   "display_name": "Python 3",
   "language": "python",
   "name": "python3"
  },
  "language_info": {
   "codemirror_mode": {
    "name": "ipython",
    "version": 3
   },
   "file_extension": ".py",
   "mimetype": "text/x-python",
   "name": "python",
   "nbconvert_exporter": "python",
   "pygments_lexer": "ipython3",
   "version": "3.7.4"
  }
 },
 "nbformat": 4,
 "nbformat_minor": 2
}
